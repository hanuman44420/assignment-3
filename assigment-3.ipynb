{
  "nbformat": 4,
  "nbformat_minor": 0,
  "metadata": {
    "colab": {
      "name": "Untitled4.ipynb",
      "provenance": [],
      "collapsed_sections": []
    },
    "kernelspec": {
      "name": "python3",
      "display_name": "Python 3"
    },
    "language_info": {
      "name": "python"
    }
  },
  "cells": [
    {
      "cell_type": "code",
      "execution_count": 3,
      "metadata": {
        "id": "M0147joSP9b1"
      },
      "outputs": [],
      "source": [
        "\n",
        "import cv2\n",
        "import numpy as np\n",
        "\n",
        "rect = cv2.imread(\"/content/drive/MyDrive/reactangle\")\n",
        "circle = cv2.imread(\"/content/drive/MyDrive/circle\")"
      ]
    },
    {
      "cell_type": "code",
      "source": [
        "And = cv2.bitwise_and(rect, circle)    # Bitwise AND\n",
        "Nand = cv2.bitwise_not(And)            # Bitwise NAND\n",
        "\n",
        "Or = cv2.bitwise_or(rect, circle)      # Bitwise OR\n",
        "Nor = cv2.bitwise_not(Or)              # Bitwise Nor\n",
        "\n",
        "notRect = cv2.bitwise_not(rect)        # Bitwise NOT\n",
        "notCircle = cv2.bitwise_not(circle)\n",
        "\n",
        "Xor = cv2.bitwise_xor(rect,circle)     # Bitwise XOR\n",
        "Xnor = cv2.bitwise_not(Xor)            # Bitwise XNOR\n",
        "\n",
        "cv2.imwrite(\"and.jpg\", And)\n",
        "cv2.imwrite(\"nand.jpg\", Nand)\n",
        "cv2.imwrite(\"or.jpg\", Or)\n",
        "cv2.imwrite(\"nor.jpg\", Nor)\n",
        "cv2.imwrite(\"notRect.jpg\", notRect)\n",
        "cv2.imwrite(\"notCircle.jpg\", notCircle)\n",
        "cv2.imwrite(\"xor.jpg\", Xor)\n",
        "cv2.imwrite(\"xnor.jpg\", Xnor)\n",
        "cv2.waitKey(0)\n",
        "cv2.destroyAllWindows()"
      ],
      "metadata": {
        "id": "WupwodcsZdDV"
      },
      "execution_count": 6,
      "outputs": []
    }
  ]
}